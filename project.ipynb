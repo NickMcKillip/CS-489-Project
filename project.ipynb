{
 "cells": [
  {
   "cell_type": "markdown",
   "metadata": {},
   "source": [
    "## CS-489 Project\n",
    "### Nicholas McKillip\n",
    "### Intro: \n",
    "I am using the dataset of tweets found at https://www.figure-eigt.com/data-for-everyone/.h. I am trying to predict the labelled setiment of each tweet from the words present in the tweet. I will be using Deep Learning for this tasks."
   ]
  },
  {
   "cell_type": "code",
   "execution_count": 234,
   "metadata": {},
   "outputs": [],
   "source": [
    "if (!require(\"keras\")) install.packages(\"keras\")\n",
    "library(keras)\n",
    "if (!require(\"tidyverse\")) install.packages(\"tidyverse\")\n",
    "library(tidyverse)\n",
    "if (!require(\"qdapRegex\")) install.packages(\"qdapRegex\")\n",
    "library(qdapRegex)\n",
    "if (!require(\"data.table\")) install.packages(\"data.table\")\n",
    "library(data.table)\n",
    "if (!require(\"caret\")) install.packages(\"caret\")\n",
    "library(caret)"
   ]
  },
  {
   "cell_type": "code",
   "execution_count": 236,
   "metadata": {},
   "outputs": [
    {
     "data": {
      "text/html": [
       "'C/C/C/C/C/en_US.UTF-8'"
      ],
      "text/latex": [
       "'C/C/C/C/C/en\\_US.UTF-8'"
      ],
      "text/markdown": [
       "'C/C/C/C/C/en_US.UTF-8'"
      ],
      "text/plain": [
       "[1] \"C/C/C/C/C/en_US.UTF-8\""
      ]
     },
     "metadata": {},
     "output_type": "display_data"
    }
   ],
   "source": [
    "Sys.setlocale('LC_ALL','C') "
   ]
  },
  {
   "cell_type": "markdown",
   "metadata": {},
   "source": [
    "### Loading and cleaning the dataset\n",
    "We remove the that was unable to classified, as well as the second column of the data frame as it was very sparse, and phone type does not seem like it would be a useful feature anyway."
   ]
  },
  {
   "cell_type": "code",
   "execution_count": 238,
   "metadata": {},
   "outputs": [],
   "source": [
    "tweets = read.csv(file = \"tweets.csv\", header = TRUE, sep = \",\",stringsAsFactors = FALSE)"
   ]
  },
  {
   "cell_type": "code",
   "execution_count": 240,
   "metadata": {},
   "outputs": [],
   "source": [
    "tweets = tweets[-c(which(tweets$is_there_an_emotion_directed_at_a_brand_or_product == \"I can't tell\" )),]"
   ]
  },
  {
   "cell_type": "code",
   "execution_count": 242,
   "metadata": {},
   "outputs": [],
   "source": [
    "tweets = tweets[,c(1,3)]"
   ]
  },
  {
   "cell_type": "markdown",
   "metadata": {},
   "source": [
    "### Tokenization"
   ]
  },
  {
   "cell_type": "code",
   "execution_count": 244,
   "metadata": {},
   "outputs": [],
   "source": [
    "max_len = 100\n",
    "max_features = 20000"
   ]
  },
  {
   "cell_type": "code",
   "execution_count": 246,
   "metadata": {},
   "outputs": [],
   "source": [
    "word_seq = text_tokenizer(num_words = max_features) %>% fit_text_tokenizer(tweets$tweet_text)"
   ]
  },
  {
   "cell_type": "code",
   "execution_count": 247,
   "metadata": {},
   "outputs": [],
   "source": [
    "word_index = word_seq$word_index"
   ]
  },
  {
   "cell_type": "markdown",
   "metadata": {},
   "source": [
    "### Glove Word Embeddings\n",
    "Downloaded from https://nlp.stanford.edu/projects/glove/\n",
    "Word embeddings are high dimensional representations of words. They allow you to understand relationships between words. For example the distance in high dimensional space from King -> Queen will be very similar to Man -> Woman. Glove is trained simply by looking at what words are close to each other in text.\n",
    "\n"
   ]
  },
  {
   "cell_type": "code",
   "execution_count": 248,
   "metadata": {},
   "outputs": [
    {
     "name": "stdout",
     "output_type": "stream",
     "text": [
      "\r",
      "Read 0.0% of 400000 rows\r",
      "Read 2.5% of 400000 rows\r",
      "Read 15.0% of 400000 rows\r",
      "Read 25.0% of 400000 rows\r",
      "Read 37.5% of 400000 rows\r",
      "Read 50.0% of 400000 rows\r",
      "Read 62.5% of 400000 rows\r",
      "Read 75.0% of 400000 rows\r",
      "Read 87.5% of 400000 rows\r",
      "Read 400000 rows and 301 (of 301) columns from 0.967 GB file in 00:00:21\n"
     ]
    }
   ],
   "source": [
    "glove.300 = fread(\"glove.6B/glove.6B.300d.txt\", data.table = FALSE)  %>%\n",
    "        rename(word=V1)  %>%\n",
    "        mutate(word=gsub(\"[[:punct:]]\",\" \", rm_white(word) ))"
   ]
  },
  {
   "cell_type": "code",
   "execution_count": 249,
   "metadata": {},
   "outputs": [],
   "source": [
    "dic_words = glove.300$word"
   ]
  },
  {
   "cell_type": "code",
   "execution_count": 250,
   "metadata": {},
   "outputs": [],
   "source": [
    "wordindex = unlist(word_seq$word_index)"
   ]
  },
  {
   "cell_type": "markdown",
   "metadata": {},
   "source": [
    "Here I am adding the sequences with zeros so that they are all the same length."
   ]
  },
  {
   "cell_type": "code",
   "execution_count": 251,
   "metadata": {},
   "outputs": [],
   "source": [
    "x = texts_to_sequences(word_seq, tweets[,1]) %>%\n",
    "        pad_sequences( maxlen = max_len)"
   ]
  },
  {
   "cell_type": "code",
   "execution_count": 252,
   "metadata": {},
   "outputs": [],
   "source": [
    "y = tweets[,2]"
   ]
  },
  {
   "cell_type": "code",
   "execution_count": 253,
   "metadata": {},
   "outputs": [],
   "source": [
    "y = as.matrix(y)"
   ]
  },
  {
   "cell_type": "code",
   "execution_count": 254,
   "metadata": {},
   "outputs": [],
   "source": [
    "for (i in 1:length(y)){\n",
    "    if (y[i] == 'Negative emotion'){\n",
    "        y[i] = 0\n",
    "    } else if (y[i] == 'No emotion toward brand or product'){\n",
    "        y[i] = 1\n",
    "    } else if (y[i] == 'Positive emotion'){\n",
    "        y[i] = 2\n",
    "    }\n",
    "}"
   ]
  },
  {
   "cell_type": "code",
   "execution_count": 255,
   "metadata": {},
   "outputs": [
    {
     "data": {
      "text/html": [
       "<table>\n",
       "<tbody>\n",
       "\t<tr><td>0</td></tr>\n",
       "\t<tr><td>2</td></tr>\n",
       "\t<tr><td>2</td></tr>\n",
       "\t<tr><td>0</td></tr>\n",
       "\t<tr><td>2</td></tr>\n",
       "\t<tr><td>1</td></tr>\n",
       "</tbody>\n",
       "</table>\n"
      ],
      "text/latex": [
       "\\begin{tabular}{l}\n",
       "\t 0\\\\\n",
       "\t 2\\\\\n",
       "\t 2\\\\\n",
       "\t 0\\\\\n",
       "\t 2\\\\\n",
       "\t 1\\\\\n",
       "\\end{tabular}\n"
      ],
      "text/markdown": [
       "\n",
       "| 0 | \n",
       "| 2 | \n",
       "| 2 | \n",
       "| 0 | \n",
       "| 2 | \n",
       "| 1 | \n",
       "\n",
       "\n"
      ],
      "text/plain": [
       "     [,1]\n",
       "[1,] 0   \n",
       "[2,] 2   \n",
       "[3,] 2   \n",
       "[4,] 0   \n",
       "[5,] 2   \n",
       "[6,] 1   "
      ]
     },
     "metadata": {},
     "output_type": "display_data"
    }
   ],
   "source": [
    "head(y)"
   ]
  },
  {
   "cell_type": "markdown",
   "metadata": {},
   "source": [
    "### Creating the folds for k-fold Cross Validation"
   ]
  },
  {
   "cell_type": "code",
   "execution_count": 256,
   "metadata": {},
   "outputs": [],
   "source": [
    "set.seed(123)"
   ]
  },
  {
   "cell_type": "code",
   "execution_count": 257,
   "metadata": {},
   "outputs": [],
   "source": [
    "folds = createFolds(y, k = 10, list = TRUE)"
   ]
  },
  {
   "cell_type": "code",
   "execution_count": 258,
   "metadata": {},
   "outputs": [
    {
     "data": {
      "text/html": [
       "10"
      ],
      "text/latex": [
       "10"
      ],
      "text/markdown": [
       "10"
      ],
      "text/plain": [
       "[1] 10"
      ]
     },
     "metadata": {},
     "output_type": "display_data"
    }
   ],
   "source": [
    "length(folds)"
   ]
  },
  {
   "cell_type": "code",
   "execution_count": 259,
   "metadata": {},
   "outputs": [],
   "source": [
    "y = to_categorical(y)"
   ]
  },
  {
   "cell_type": "code",
   "execution_count": 260,
   "metadata": {},
   "outputs": [
    {
     "data": {
      "text/html": [
       "<table>\n",
       "<tbody>\n",
       "\t<tr><td>1</td><td>0</td><td>0</td></tr>\n",
       "\t<tr><td>0</td><td>0</td><td>1</td></tr>\n",
       "\t<tr><td>0</td><td>0</td><td>1</td></tr>\n",
       "\t<tr><td>1</td><td>0</td><td>0</td></tr>\n",
       "\t<tr><td>0</td><td>0</td><td>1</td></tr>\n",
       "\t<tr><td>0</td><td>1</td><td>0</td></tr>\n",
       "</tbody>\n",
       "</table>\n"
      ],
      "text/latex": [
       "\\begin{tabular}{lll}\n",
       "\t 1 & 0 & 0\\\\\n",
       "\t 0 & 0 & 1\\\\\n",
       "\t 0 & 0 & 1\\\\\n",
       "\t 1 & 0 & 0\\\\\n",
       "\t 0 & 0 & 1\\\\\n",
       "\t 0 & 1 & 0\\\\\n",
       "\\end{tabular}\n"
      ],
      "text/markdown": [
       "\n",
       "| 1 | 0 | 0 | \n",
       "| 0 | 0 | 1 | \n",
       "| 0 | 0 | 1 | \n",
       "| 1 | 0 | 0 | \n",
       "| 0 | 0 | 1 | \n",
       "| 0 | 1 | 0 | \n",
       "\n",
       "\n"
      ],
      "text/plain": [
       "     [,1] [,2] [,3]\n",
       "[1,] 1    0    0   \n",
       "[2,] 0    0    1   \n",
       "[3,] 0    0    1   \n",
       "[4,] 1    0    0   \n",
       "[5,] 0    0    1   \n",
       "[6,] 0    1    0   "
      ]
     },
     "metadata": {},
     "output_type": "display_data"
    }
   ],
   "source": [
    "head(y)"
   ]
  },
  {
   "cell_type": "code",
   "execution_count": 261,
   "metadata": {},
   "outputs": [],
   "source": [
    "dic = data.frame(word=names(wordindex), key = wordindex,row.names = NULL) %>%\n",
    "        arrange(key) %>% \n",
    "        .[1:max_features,]"
   ]
  },
  {
   "cell_type": "code",
   "execution_count": 262,
   "metadata": {},
   "outputs": [
    {
     "name": "stderr",
     "output_type": "stream",
     "text": [
      "Joining, by = \"word\"\n",
      "Warning message:\n",
      "\"Column `word` joining factor and character vector, coercing into character vector\""
     ]
    }
   ],
   "source": [
    "w_embed = dic %>% left_join(glove.300)"
   ]
  },
  {
   "cell_type": "code",
   "execution_count": 263,
   "metadata": {},
   "outputs": [
    {
     "data": {
      "text/html": [
       "<table>\n",
       "<thead><tr><th scope=col>word</th><th scope=col>key</th><th scope=col>V2</th><th scope=col>V3</th><th scope=col>V4</th><th scope=col>V5</th><th scope=col>V6</th><th scope=col>V7</th><th scope=col>V8</th><th scope=col>V9</th><th scope=col>⋯</th><th scope=col>V292</th><th scope=col>V293</th><th scope=col>V294</th><th scope=col>V295</th><th scope=col>V296</th><th scope=col>V297</th><th scope=col>V298</th><th scope=col>V299</th><th scope=col>V300</th><th scope=col>V301</th></tr></thead>\n",
       "<tbody>\n",
       "\t<tr><td>sxsw      </td><td>1         </td><td>-0.201860 </td><td> 0.551910 </td><td>-0.6928400</td><td>-0.801390 </td><td>-0.219960 </td><td> 0.046924 </td><td>-0.429970 </td><td> 0.212450 </td><td><U+22EF>  </td><td> 0.854950 </td><td>-0.33176  </td><td>-0.132100 </td><td>-0.0806360</td><td>-0.630990 </td><td>-0.572960 </td><td>-0.696900 </td><td> 0.9563300</td><td> 0.1459000</td><td>-0.580770 </td></tr>\n",
       "\t<tr><td>mention   </td><td>2         </td><td> 0.247240 </td><td> 0.171900 </td><td>-0.0520680</td><td>-0.018044 </td><td>-0.183920 </td><td> 0.316090 </td><td>-0.092325 </td><td> 0.074284 </td><td><U+22EF>  </td><td> 0.187310 </td><td> 0.33458  </td><td> 0.342110 </td><td>-0.3604900</td><td>-0.330130 </td><td>-0.338490 </td><td>-0.398450 </td><td> 0.0045514</td><td>-0.0041604</td><td> 0.258830 </td></tr>\n",
       "\t<tr><td>the       </td><td>3         </td><td> 0.046560 </td><td> 0.213180 </td><td>-0.0074364</td><td>-0.458540 </td><td>-0.035639 </td><td> 0.236430 </td><td>-0.288360 </td><td> 0.215210 </td><td><U+22EF>  </td><td>-0.013064 </td><td>-0.29686  </td><td>-0.079913 </td><td> 0.1950000</td><td> 0.031549 </td><td> 0.285060 </td><td>-0.087461 </td><td> 0.0090611</td><td>-0.2098900</td><td> 0.053913 </td></tr>\n",
       "\t<tr><td>link      </td><td>4         </td><td>-0.016774 </td><td> 0.073822 </td><td> 0.0048576</td><td>-0.338590 </td><td>-0.025383 </td><td>-0.156330 </td><td>-0.039704 </td><td>-0.353400 </td><td><U+22EF>  </td><td> 0.299130 </td><td>-0.11834  </td><td>-0.501340 </td><td> 0.0053254</td><td>-0.411580 </td><td> 0.111230 </td><td>-0.032536 </td><td> 0.0271410</td><td>-0.0872710</td><td>-0.098161 </td></tr>\n",
       "\t<tr><td>to        </td><td>5         </td><td>-0.257560 </td><td>-0.057132 </td><td>-0.6719000</td><td>-0.380820 </td><td>-0.364210 </td><td>-0.082155 </td><td>-0.010955 </td><td>-0.082047 </td><td><U+22EF>  </td><td>-0.012806 </td><td>-0.59707  </td><td> 0.317340 </td><td>-0.2526700</td><td> 0.543840 </td><td> 0.063007 </td><td>-0.049795 </td><td>-0.1604300</td><td> 0.0467440</td><td>-0.070621 </td></tr>\n",
       "\t<tr><td>at        </td><td>6         </td><td>-0.368980 </td><td> 0.897030 </td><td> 0.3479900</td><td>-0.062829 </td><td> 0.180460 </td><td>-0.302970 </td><td> 0.360790 </td><td>-0.013702 </td><td><U+22EF>  </td><td>-0.275950 </td><td>-0.61138  </td><td>-0.584630 </td><td>-0.1257200</td><td> 0.423210 </td><td>-0.011227 </td><td> 0.390720 </td><td>-0.3987500</td><td>-0.8299200</td><td> 0.175700 </td></tr>\n",
       "</tbody>\n",
       "</table>\n"
      ],
      "text/latex": [
       "\\begin{tabular}{r|llllllllllllllllllllllllllllllllllllllllllllllllllllllllllllllllllllllllllllllllllllllllllllllllllllllllllllllllllllllllllllllllllllllllllllllllllllllllllllllllllllllllllllllllllllllllllllllllllllllllllllllllllllllllllllllllllllllllllllllllllllllllllllllllllllllllllllllllllllllllllllllllllllllllllllll}\n",
       " word & key & V2 & V3 & V4 & V5 & V6 & V7 & V8 & V9 & ⋯ & V292 & V293 & V294 & V295 & V296 & V297 & V298 & V299 & V300 & V301\\\\\n",
       "\\hline\n",
       "\t sxsw       & 1          & -0.201860  &  0.551910  & -0.6928400 & -0.801390  & -0.219960  &  0.046924  & -0.429970  &  0.212450  & <U+22EF>   &  0.854950  & -0.33176   & -0.132100  & -0.0806360 & -0.630990  & -0.572960  & -0.696900  &  0.9563300 &  0.1459000 & -0.580770 \\\\\n",
       "\t mention    & 2          &  0.247240  &  0.171900  & -0.0520680 & -0.018044  & -0.183920  &  0.316090  & -0.092325  &  0.074284  & <U+22EF>   &  0.187310  &  0.33458   &  0.342110  & -0.3604900 & -0.330130  & -0.338490  & -0.398450  &  0.0045514 & -0.0041604 &  0.258830 \\\\\n",
       "\t the        & 3          &  0.046560  &  0.213180  & -0.0074364 & -0.458540  & -0.035639  &  0.236430  & -0.288360  &  0.215210  & <U+22EF>   & -0.013064  & -0.29686   & -0.079913  &  0.1950000 &  0.031549  &  0.285060  & -0.087461  &  0.0090611 & -0.2098900 &  0.053913 \\\\\n",
       "\t link       & 4          & -0.016774  &  0.073822  &  0.0048576 & -0.338590  & -0.025383  & -0.156330  & -0.039704  & -0.353400  & <U+22EF>   &  0.299130  & -0.11834   & -0.501340  &  0.0053254 & -0.411580  &  0.111230  & -0.032536  &  0.0271410 & -0.0872710 & -0.098161 \\\\\n",
       "\t to         & 5          & -0.257560  & -0.057132  & -0.6719000 & -0.380820  & -0.364210  & -0.082155  & -0.010955  & -0.082047  & <U+22EF>   & -0.012806  & -0.59707   &  0.317340  & -0.2526700 &  0.543840  &  0.063007  & -0.049795  & -0.1604300 &  0.0467440 & -0.070621 \\\\\n",
       "\t at         & 6          & -0.368980  &  0.897030  &  0.3479900 & -0.062829  &  0.180460  & -0.302970  &  0.360790  & -0.013702  & <U+22EF>   & -0.275950  & -0.61138   & -0.584630  & -0.1257200 &  0.423210  & -0.011227  &  0.390720  & -0.3987500 & -0.8299200 &  0.175700 \\\\\n",
       "\\end{tabular}\n"
      ],
      "text/markdown": [
       "\n",
       "word | key | V2 | V3 | V4 | V5 | V6 | V7 | V8 | V9 | ⋯ | V292 | V293 | V294 | V295 | V296 | V297 | V298 | V299 | V300 | V301 | \n",
       "|---|---|---|---|---|---|\n",
       "| sxsw       | 1          | -0.201860  |  0.551910  | -0.6928400 | -0.801390  | -0.219960  |  0.046924  | -0.429970  |  0.212450  | <U+22EF>   |  0.854950  | -0.33176   | -0.132100  | -0.0806360 | -0.630990  | -0.572960  | -0.696900  |  0.9563300 |  0.1459000 | -0.580770  | \n",
       "| mention    | 2          |  0.247240  |  0.171900  | -0.0520680 | -0.018044  | -0.183920  |  0.316090  | -0.092325  |  0.074284  | <U+22EF>   |  0.187310  |  0.33458   |  0.342110  | -0.3604900 | -0.330130  | -0.338490  | -0.398450  |  0.0045514 | -0.0041604 |  0.258830  | \n",
       "| the        | 3          |  0.046560  |  0.213180  | -0.0074364 | -0.458540  | -0.035639  |  0.236430  | -0.288360  |  0.215210  | <U+22EF>   | -0.013064  | -0.29686   | -0.079913  |  0.1950000 |  0.031549  |  0.285060  | -0.087461  |  0.0090611 | -0.2098900 |  0.053913  | \n",
       "| link       | 4          | -0.016774  |  0.073822  |  0.0048576 | -0.338590  | -0.025383  | -0.156330  | -0.039704  | -0.353400  | <U+22EF>   |  0.299130  | -0.11834   | -0.501340  |  0.0053254 | -0.411580  |  0.111230  | -0.032536  |  0.0271410 | -0.0872710 | -0.098161  | \n",
       "| to         | 5          | -0.257560  | -0.057132  | -0.6719000 | -0.380820  | -0.364210  | -0.082155  | -0.010955  | -0.082047  | <U+22EF>   | -0.012806  | -0.59707   |  0.317340  | -0.2526700 |  0.543840  |  0.063007  | -0.049795  | -0.1604300 |  0.0467440 | -0.070621  | \n",
       "| at         | 6          | -0.368980  |  0.897030  |  0.3479900 | -0.062829  |  0.180460  | -0.302970  |  0.360790  | -0.013702  | <U+22EF>   | -0.275950  | -0.61138   | -0.584630  | -0.1257200 |  0.423210  | -0.011227  |  0.390720  | -0.3987500 | -0.8299200 |  0.175700  | \n",
       "\n",
       "\n"
      ],
      "text/plain": [
       "  word    key V2        V3        V4         V5        V6        V7       \n",
       "1 sxsw    1   -0.201860  0.551910 -0.6928400 -0.801390 -0.219960  0.046924\n",
       "2 mention 2    0.247240  0.171900 -0.0520680 -0.018044 -0.183920  0.316090\n",
       "3 the     3    0.046560  0.213180 -0.0074364 -0.458540 -0.035639  0.236430\n",
       "4 link    4   -0.016774  0.073822  0.0048576 -0.338590 -0.025383 -0.156330\n",
       "5 to      5   -0.257560 -0.057132 -0.6719000 -0.380820 -0.364210 -0.082155\n",
       "6 at      6   -0.368980  0.897030  0.3479900 -0.062829  0.180460 -0.302970\n",
       "  V8        V9        <U+22EF>   V292      V293     V294      V295      \n",
       "1 -0.429970  0.212450 <U+22EF>  0.854950 -0.33176 -0.132100 -0.0806360\n",
       "2 -0.092325  0.074284 <U+22EF>  0.187310  0.33458  0.342110 -0.3604900\n",
       "3 -0.288360  0.215210 <U+22EF> -0.013064 -0.29686 -0.079913  0.1950000\n",
       "4 -0.039704 -0.353400 <U+22EF>  0.299130 -0.11834 -0.501340  0.0053254\n",
       "5 -0.010955 -0.082047 <U+22EF> -0.012806 -0.59707  0.317340 -0.2526700\n",
       "6  0.360790 -0.013702 <U+22EF> -0.275950 -0.61138 -0.584630 -0.1257200\n",
       "  V296      V297      V298      V299       V300       V301     \n",
       "1 -0.630990 -0.572960 -0.696900  0.9563300  0.1459000 -0.580770\n",
       "2 -0.330130 -0.338490 -0.398450  0.0045514 -0.0041604  0.258830\n",
       "3  0.031549  0.285060 -0.087461  0.0090611 -0.2098900  0.053913\n",
       "4 -0.411580  0.111230 -0.032536  0.0271410 -0.0872710 -0.098161\n",
       "5  0.543840  0.063007 -0.049795 -0.1604300  0.0467440 -0.070621\n",
       "6  0.423210 -0.011227  0.390720 -0.3987500 -0.8299200  0.175700"
      ]
     },
     "metadata": {},
     "output_type": "display_data"
    }
   ],
   "source": [
    "head(w_embed)"
   ]
  },
  {
   "cell_type": "code",
   "execution_count": 264,
   "metadata": {},
   "outputs": [],
   "source": [
    "J = ncol(w_embed)\n",
    "ndim = J-2"
   ]
  },
  {
   "cell_type": "code",
   "execution_count": 265,
   "metadata": {},
   "outputs": [],
   "source": [
    "w_embed = w_embed [1:(max_features-1),3:J] %>%\n",
    "        mutate_all(as.numeric) %>%\n",
    "        mutate_all(round,6) %>%\n",
    "        #fill na with 0\n",
    "        mutate_all(funs(replace(., is.na(.), 0))) "
   ]
  },
  {
   "cell_type": "code",
   "execution_count": 266,
   "metadata": {},
   "outputs": [],
   "source": [
    "colnames(w_embed) = paste0(\"V\",1:ndim)"
   ]
  },
  {
   "cell_type": "code",
   "execution_count": 267,
   "metadata": {},
   "outputs": [],
   "source": [
    "w_embed = rbind(rep(0, ndim), w_embed) %>%\n",
    "        as.matrix()"
   ]
  },
  {
   "cell_type": "code",
   "execution_count": 268,
   "metadata": {},
   "outputs": [],
   "source": [
    "w_embed = list(array(w_embed , c(max_features, ndim)))\n"
   ]
  },
  {
   "cell_type": "code",
   "execution_count": 269,
   "metadata": {},
   "outputs": [
    {
     "data": {
      "text/plain": [
       "<keras.preprocessing.text.Tokenizer>"
      ]
     },
     "metadata": {},
     "output_type": "display_data"
    }
   ],
   "source": [
    "word_seq"
   ]
  },
  {
   "cell_type": "code",
   "execution_count": 270,
   "metadata": {},
   "outputs": [],
   "source": [
    "set.seed(123)"
   ]
  },
  {
   "cell_type": "code",
   "execution_count": 271,
   "metadata": {},
   "outputs": [],
   "source": [
    "inp = layer_input(shape = list(max_len),\n",
    "                dtype = \"int32\", name = \"input\")"
   ]
  },
  {
   "cell_type": "markdown",
   "metadata": {},
   "source": [
    "## Building the Recurrent Neural Network\n",
    "I use, a recurrent neural network and feed it's output to a fully connected layers.\n",
    "Recurrent neural network's evaluate sequences by using the same weights over and over again. LSTM's keep track of things that depend on context, such as plurality. Bidirectional models evaluate the model from beginning to end as well as end to beginning. Dropout prevents over fitting by randomly eliminating weights during training."
   ]
  },
  {
   "cell_type": "code",
   "execution_count": 272,
   "metadata": {},
   "outputs": [],
   "source": [
    "model = inp %>% \n",
    "layer_embedding(input_dim = max_features, output_dim = ndim, \n",
    "                input_length = max_len, weights = w_embed, trainable = FALSE) %>%\n",
    "bidirectional(layer_lstm(units = 50, return_sequences = TRUE, \n",
    "                         dropout = 0.1, recurrent_dropout = 0.1)) %>% \n",
    "layer_global_max_pooling_1d() %>% \n",
    "layer_dense(50, activation = \"relu\") %>% \n",
    "layer_dropout(0.1) \n",
    "outp = model %>% layer_dense(units = 3, activation = \"sigmoid\")\n",
    "model = keras_model(inp, outp)"
   ]
  },
  {
   "cell_type": "code",
   "execution_count": 273,
   "metadata": {},
   "outputs": [],
   "source": [
    "model %>% compile(optimizer = \"adam\",\n",
    "                 loss = \"binary_crossentropy\",\n",
    "                 metrics = c(\"acc\"))"
   ]
  },
  {
   "cell_type": "markdown",
   "metadata": {},
   "source": [
    "## Training\n",
    "I will be using the folds created earlier for 10-Fold cross validation. This means 10% of the data will be the validation set at a time, while the rest is the training set. We will then choose a new 10% of the data to be the validation set. Until every piece of data has been the validation set. \n",
    "### Back Propagation\n",
    "The weights are randomly intialized then as training goes on BackPropagation will adjust weights in order reduce the amount of error in  its predictions"
   ]
  },
  {
   "cell_type": "code",
   "execution_count": 274,
   "metadata": {},
   "outputs": [],
   "source": [
    "for (i in 1:length(folds)){\n",
    "    history = model %>% fit(\n",
    "        x[-folds[[i]],], y[-folds[[i]],],\n",
    "        epochs = 1,\n",
    "        batch_size = 32,\n",
    "        validation_data =list(x[folds[[i]],], y[folds[[i]],]),\n",
    "    callbacks = list(\n",
    "                callback_model_checkpoint(paste0(\"tweets.h5\"), save_best_only = TRUE),\n",
    "                callback_early_stopping(monitor = \"val_loss\", min_delta = 0, patience = 0,\n",
    "                                        verbose = 0, mode = c(\"auto\", \"min\", \"max\"))\n",
    "        )\n",
    "    )\n",
    "    history\n",
    "}"
   ]
  },
  {
   "cell_type": "code",
   "execution_count": 283,
   "metadata": {},
   "outputs": [
    {
     "data": {
      "text/plain": [
       "Trained on 8,043 samples, validated on 894 samples (batch_size=32, epochs=1)\n",
       "Final epoch (plot to see history):\n",
       "     acc: 0.9033\n",
       "    loss: 0.232\n",
       " val_acc: 0.9053\n",
       "val_loss: 0.2219 "
      ]
     },
     "metadata": {},
     "output_type": "display_data"
    }
   ],
   "source": [
    "history"
   ]
  },
  {
   "cell_type": "code",
   "execution_count": 284,
   "metadata": {},
   "outputs": [],
   "source": [
    "val_acc = c(0.7655,0.7988,0.8076,0.8438, 0.8441, 0.8645,0.8667,0.8963,0.9045,0.9053)"
   ]
  },
  {
   "cell_type": "code",
   "execution_count": 292,
   "metadata": {},
   "outputs": [
    {
     "data": {
      "image/png": "[encoded data removed]",
      "text/plain": [
       "plot without title"
      ]
     },
     "metadata": {},
     "output_type": "display_data"
    }
   ],
   "source": [
    "plot(val_acc, type = \"l\", xlab = \"Fold #\", ylab = \"Validation Accuracy\")"
   ]
  },
  {
   "cell_type": "markdown",
   "metadata": {},
   "source": [
    "### More Training\n",
    "The accuracy seems to keep impoving, should I train more?"
   ]
  },
  {
   "cell_type": "code",
   "execution_count": 290,
   "metadata": {},
   "outputs": [],
   "source": [
    "for (i in 1:length(folds)){\n",
    "    history = model %>% fit(\n",
    "        x[-folds[[i]],], y[-folds[[i]],],\n",
    "        epochs = 1,\n",
    "        batch_size = 32,\n",
    "        validation_data =list(x[folds[[i]],], y[folds[[i]],]),\n",
    "    callbacks = list(\n",
    "                callback_model_checkpoint(paste0(\"tweets.h5\"), save_best_only = TRUE),\n",
    "                callback_early_stopping(monitor = \"val_loss\", min_delta = 0, patience = 0,\n",
    "                                        verbose = 0, mode = c(\"auto\", \"min\", \"max\"))\n",
    "        )\n",
    "    )\n",
    "    history\n",
    "}"
   ]
  },
  {
   "cell_type": "code",
   "execution_count": 293,
   "metadata": {},
   "outputs": [],
   "source": [
    "val_acc = c(val_acc,0.9135,0.9287,0.9277,0.9512,0.9456, 0.9541, 0.9507, 0.9631, 0.9564, 0.9541)"
   ]
  },
  {
   "cell_type": "code",
   "execution_count": 294,
   "metadata": {},
   "outputs": [
    {
     "data": {
      "image/png": "[encoded data removed]",
      "text/plain": [
       "plot without title"
      ]
     },
     "metadata": {},
     "output_type": "display_data"
    }
   ],
   "source": [
    "plot(val_acc, type = \"l\", xlab = \"Fold #\", ylab = \"Validation Accuracy\")"
   ]
  },
  {
   "cell_type": "code",
   "execution_count": 295,
   "metadata": {},
   "outputs": [],
   "source": [
    "model = load_model_hdf5(paste0(\"tweets.h5\"))"
   ]
  },
  {
   "cell_type": "code",
   "execution_count": 317,
   "metadata": {},
   "outputs": [
    {
     "data": {
      "text/html": [
       "<dl>\n",
       "\t<dt>$loss</dt>\n",
       "\t\t<dd>0.075221655168172</dd>\n",
       "\t<dt>$acc</dt>\n",
       "\t\t<dd>0.974562683267669</dd>\n",
       "</dl>\n"
      ],
      "text/latex": [
       "\\begin{description}\n",
       "\\item[\\$loss] 0.075221655168172\n",
       "\\item[\\$acc] 0.974562683267669\n",
       "\\end{description}\n"
      ],
      "text/markdown": [
       "$loss\n",
       ":   0.075221655168172\n",
       "$acc\n",
       ":   0.974562683267669\n",
       "\n",
       "\n"
      ],
      "text/plain": [
       "$loss\n",
       "[1] 0.07522166\n",
       "\n",
       "$acc\n",
       "[1] 0.9745627\n"
      ]
     },
     "metadata": {},
     "output_type": "display_data"
    }
   ],
   "source": [
    "model %>% evaluate(x, y, batch_size = 32)"
   ]
  },
  {
   "cell_type": "code",
   "execution_count": 307,
   "metadata": {},
   "outputs": [],
   "source": [
    "pred = model %>% \n",
    "predict(x, batch_size = 512)"
   ]
  },
  {
   "cell_type": "code",
   "execution_count": 310,
   "metadata": {},
   "outputs": [
    {
     "data": {
      "text/html": [
       "8937"
      ],
      "text/latex": [
       "8937"
      ],
      "text/markdown": [
       "8937"
      ],
      "text/plain": [
       "[1] 8937"
      ]
     },
     "metadata": {},
     "output_type": "display_data"
    }
   ],
   "source": [
    "dim(pred)[1]"
   ]
  },
  {
   "cell_type": "code",
   "execution_count": 311,
   "metadata": {},
   "outputs": [
    {
     "data": {
      "text/html": [
       "1"
      ],
      "text/latex": [
       "1"
      ],
      "text/markdown": [
       "1"
      ],
      "text/plain": [
       "[1] 1"
      ]
     },
     "metadata": {},
     "output_type": "display_data"
    }
   ],
   "source": [
    "which.max(pred[1,])"
   ]
  },
  {
   "cell_type": "code",
   "execution_count": 308,
   "metadata": {},
   "outputs": [
    {
     "data": {
      "text/html": [
       "<table>\n",
       "<tbody>\n",
       "\t<tr><td>9.952322e-01</td><td>0.007976501 </td><td>0.002444212 </td></tr>\n",
       "\t<tr><td>2.628332e-05</td><td>0.003137907 </td><td>0.997609258 </td></tr>\n",
       "\t<tr><td>2.188160e-02</td><td>0.015537162 </td><td>0.973378181 </td></tr>\n",
       "\t<tr><td>9.230276e-01</td><td>0.063325249 </td><td>0.025972588 </td></tr>\n",
       "\t<tr><td>3.679925e-03</td><td>0.006391415 </td><td>0.988445640 </td></tr>\n",
       "\t<tr><td>7.461291e-06</td><td>0.999225259 </td><td>0.000515473 </td></tr>\n",
       "</tbody>\n",
       "</table>\n"
      ],
      "text/latex": [
       "\\begin{tabular}{lll}\n",
       "\t 9.952322e-01 & 0.007976501  & 0.002444212 \\\\\n",
       "\t 2.628332e-05 & 0.003137907  & 0.997609258 \\\\\n",
       "\t 2.188160e-02 & 0.015537162  & 0.973378181 \\\\\n",
       "\t 9.230276e-01 & 0.063325249  & 0.025972588 \\\\\n",
       "\t 3.679925e-03 & 0.006391415  & 0.988445640 \\\\\n",
       "\t 7.461291e-06 & 0.999225259  & 0.000515473 \\\\\n",
       "\\end{tabular}\n"
      ],
      "text/markdown": [
       "\n",
       "| 9.952322e-01 | 0.007976501  | 0.002444212  | \n",
       "| 2.628332e-05 | 0.003137907  | 0.997609258  | \n",
       "| 2.188160e-02 | 0.015537162  | 0.973378181  | \n",
       "| 9.230276e-01 | 0.063325249  | 0.025972588  | \n",
       "| 3.679925e-03 | 0.006391415  | 0.988445640  | \n",
       "| 7.461291e-06 | 0.999225259  | 0.000515473  | \n",
       "\n",
       "\n"
      ],
      "text/plain": [
       "     [,1]         [,2]        [,3]       \n",
       "[1,] 9.952322e-01 0.007976501 0.002444212\n",
       "[2,] 2.628332e-05 0.003137907 0.997609258\n",
       "[3,] 2.188160e-02 0.015537162 0.973378181\n",
       "[4,] 9.230276e-01 0.063325249 0.025972588\n",
       "[5,] 3.679925e-03 0.006391415 0.988445640\n",
       "[6,] 7.461291e-06 0.999225259 0.000515473"
      ]
     },
     "metadata": {},
     "output_type": "display_data"
    }
   ],
   "source": [
    "head(pred)"
   ]
  },
  {
   "cell_type": "code",
   "execution_count": 312,
   "metadata": {},
   "outputs": [],
   "source": [
    "pred_classes = c()\n",
    "for (i in 1:dim(pred)[1]){\n",
    "    pred_classes = c(pred_classes, which.max(pred[i,]))\n",
    "}"
   ]
  },
  {
   "cell_type": "code",
   "execution_count": 313,
   "metadata": {},
   "outputs": [
    {
     "data": {
      "text/html": [
       "<ol class=list-inline>\n",
       "\t<li>1</li>\n",
       "\t<li>3</li>\n",
       "\t<li>3</li>\n",
       "\t<li>1</li>\n",
       "\t<li>3</li>\n",
       "\t<li>2</li>\n",
       "</ol>\n"
      ],
      "text/latex": [
       "\\begin{enumerate*}\n",
       "\\item 1\n",
       "\\item 3\n",
       "\\item 3\n",
       "\\item 1\n",
       "\\item 3\n",
       "\\item 2\n",
       "\\end{enumerate*}\n"
      ],
      "text/markdown": [
       "1. 1\n",
       "2. 3\n",
       "3. 3\n",
       "4. 1\n",
       "5. 3\n",
       "6. 2\n",
       "\n",
       "\n"
      ],
      "text/plain": [
       "[1] 1 3 3 1 3 2"
      ]
     },
     "metadata": {},
     "output_type": "display_data"
    }
   ],
   "source": [
    "head(pred_classes)"
   ]
  },
  {
   "cell_type": "code",
   "execution_count": 314,
   "metadata": {},
   "outputs": [],
   "source": [
    "y_classes = c()\n",
    "for (i in 1:dim(y)[1]){\n",
    "    y_classes = c(y_classes, which.max(y[i,]))\n",
    "}"
   ]
  },
  {
   "cell_type": "code",
   "execution_count": 316,
   "metadata": {},
   "outputs": [
    {
     "data": {
      "text/html": [
       "<ol class=list-inline>\n",
       "\t<li>1</li>\n",
       "\t<li>3</li>\n",
       "\t<li>3</li>\n",
       "\t<li>1</li>\n",
       "\t<li>3</li>\n",
       "\t<li>2</li>\n",
       "</ol>\n"
      ],
      "text/latex": [
       "\\begin{enumerate*}\n",
       "\\item 1\n",
       "\\item 3\n",
       "\\item 3\n",
       "\\item 1\n",
       "\\item 3\n",
       "\\item 2\n",
       "\\end{enumerate*}\n"
      ],
      "text/markdown": [
       "1. 1\n",
       "2. 3\n",
       "3. 3\n",
       "4. 1\n",
       "5. 3\n",
       "6. 2\n",
       "\n",
       "\n"
      ],
      "text/plain": [
       "[1] 1 3 3 1 3 2"
      ]
     },
     "metadata": {},
     "output_type": "display_data"
    }
   ],
   "source": [
    "head(y_classes)"
   ]
  },
  {
   "cell_type": "code",
   "execution_count": 321,
   "metadata": {},
   "outputs": [
    {
     "data": {
      "text/plain": [
       "Confusion Matrix and Statistics\n",
       "\n",
       "          Reference\n",
       "Prediction    1    2    3\n",
       "         1  551   24    5\n",
       "         2   16 5268  190\n",
       "         3    3   97 2783\n",
       "\n",
       "Overall Statistics\n",
       "                                          \n",
       "               Accuracy : 0.9625          \n",
       "                 95% CI : (0.9584, 0.9664)\n",
       "    No Information Rate : 0.603           \n",
       "    P-Value [Acc > NIR] : < 2.2e-16       \n",
       "                                          \n",
       "                  Kappa : 0.9278          \n",
       " Mcnemar's Test P-Value : 4.667e-07       \n",
       "\n",
       "Statistics by Class:\n",
       "\n",
       "                     Class: 1 Class: 2 Class: 3\n",
       "Precision             0.95000   0.9624   0.9653\n",
       "Recall                0.96667   0.9775   0.9345\n",
       "F1                    0.95826   0.9699   0.9497\n",
       "Prevalence            0.06378   0.6030   0.3332\n",
       "Detection Rate        0.06165   0.5895   0.3114\n",
       "Detection Prevalence  0.06490   0.6125   0.3226\n",
       "Balanced Accuracy     0.98160   0.9597   0.9589"
      ]
     },
     "metadata": {},
     "output_type": "display_data"
    }
   ],
   "source": [
    "confusionMatrix(data = factor(pred_classes), reference = factor(y_classes), mode = \"prec_recall\")"
   ]
  },
  {
   "cell_type": "code",
   "execution_count": null,
   "metadata": {},
   "outputs": [],
   "source": []
  }
 ],
 "metadata": {
  "kernelspec": {
   "display_name": "R",
   "language": "R",
   "name": "ir"
  },
  "language_info": {
   "codemirror_mode": "r",
   "file_extension": ".r",
   "mimetype": "text/x-r-source",
   "name": "R",
   "pygments_lexer": "r",
   "version": "3.4.3"
  }
 },
 "nbformat": 4,
 "nbformat_minor": 2
}
